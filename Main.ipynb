{
 "cells": [
  {
   "cell_type": "code",
   "execution_count": 1,
   "metadata": {
    "collapsed": true
   },
   "outputs": [],
   "source": [
    "import requests\n",
    "\n",
    "import pandas as pd\n",
    "import numpy as np\n",
    "import matplotlib.pyplot as plt\n",
    "from scipy.cluster.vq import whiten, kmeans2\n",
    "\n",
    "%matplotlib inline"
   ]
  },
  {
   "cell_type": "code",
   "execution_count": 2,
   "metadata": {
    "collapsed": true
   },
   "outputs": [],
   "source": [
    "def call_api(uri, result_key):\n",
    "    json = {}\n",
    "    try:\n",
    "        json = requests.get(uri, headers = { 'X-Auth-Token': 'c52b7825851b4357af3e06c1888152f0' }).json()\n",
    "        return json[result_key]\n",
    "    except:\n",
    "        print(json)\n",
    "        return None"
   ]
  },
  {
   "cell_type": "code",
   "execution_count": 3,
   "metadata": {},
   "outputs": [],
   "source": [
    "teams = call_api('http://api.football-data.org/v1/soccerseasons/439/teams', 'teams')"
   ]
  },
  {
   "cell_type": "code",
   "execution_count": 4,
   "metadata": {
    "scrolled": true
   },
   "outputs": [
    {
     "name": "stdout",
     "output_type": "stream",
     "text": [
      "Team \"FC Rio Ave\", 34 games, 9 goals\n",
      "Team \"FC Porto\", 40 games, 23 goals\n",
      "Team \"Moreirense FC\", 34 games, 6 goals\n",
      "Team \"FC Paços de Ferreira\", 34 games, 9 goals\n",
      "Team \"Sporting CP\", 40 games, 19 goals\n",
      "Team \"Maritimo Funchal\", 34 games, 9 goals\n",
      "Team \"CD Tondela\", 34 games, 10 goals\n",
      "Team \"SL Benfica\", 40 games, 17 goals\n",
      "Team \"Boavista Porto FC\", 34 games, 7 goals\n",
      "Team \"FC Arouca\", 0 games, 0 goals\n",
      "Team \"Vitoria Setubal\", 34 games, 7 goals\n",
      "Team \"C.F. Os Belenenses\", 34 games, 10 goals\n",
      "Team \"Vitoria Guimaraes\", 34 games, 7 goals\n",
      "Team \"Sporting Braga\", 34 games, 15 goals\n",
      "Team \"GD Estoril Praia\", 34 games, 8 goals\n",
      "Team \"Feirense\", 34 games, 9 goals\n",
      "Team \"Nacional Funchal\", 0 games, 0 goals\n",
      "Team \"G.D. Chaves\", 34 games, 9 goals\n"
     ]
    }
   ],
   "source": [
    "for team in teams:\n",
    "    fixtures = call_api(team['_links']['fixtures']['href'], 'fixtures')\n",
    "    goals = 0\n",
    "    for f in fixtures:\n",
    "        if team['name'] == f['homeTeamName']:\n",
    "            goals += f['result']['goalsHomeTeam'] if f['result']['goalsHomeTeam'] else 0\n",
    "        else:\n",
    "            goals += f['result']['goalsAwayTeam'] if f['result']['goalsAwayTeam'] else 0\n",
    "    print('Team \"{}\", {} games, {} goals'.format(team['name'], len(fixtures), goals))\n",
    "    team['games'] = fixtures\n",
    "    team['goals'] = goals"
   ]
  },
  {
   "cell_type": "code",
   "execution_count": 5,
   "metadata": {},
   "outputs": [
    {
     "data": {
      "text/plain": [
       "[{'games': 34, 'goals': 9, 'name': 'FC Rio Ave'},\n",
       " {'games': 40, 'goals': 23, 'name': 'FC Porto'},\n",
       " {'games': 34, 'goals': 6, 'name': 'Moreirense FC'},\n",
       " {'games': 34, 'goals': 9, 'name': 'FC Paços de Ferreira'},\n",
       " {'games': 40, 'goals': 19, 'name': 'Sporting CP'},\n",
       " {'games': 34, 'goals': 9, 'name': 'Maritimo Funchal'},\n",
       " {'games': 34, 'goals': 10, 'name': 'CD Tondela'},\n",
       " {'games': 40, 'goals': 17, 'name': 'SL Benfica'},\n",
       " {'games': 34, 'goals': 7, 'name': 'Boavista Porto FC'},\n",
       " {'games': 34, 'goals': 7, 'name': 'Vitoria Setubal'},\n",
       " {'games': 34, 'goals': 10, 'name': 'C.F. Os Belenenses'},\n",
       " {'games': 34, 'goals': 7, 'name': 'Vitoria Guimaraes'},\n",
       " {'games': 34, 'goals': 15, 'name': 'Sporting Braga'},\n",
       " {'games': 34, 'goals': 8, 'name': 'GD Estoril Praia'},\n",
       " {'games': 34, 'goals': 9, 'name': 'Feirense'},\n",
       " {'games': 34, 'goals': 9, 'name': 'G.D. Chaves'}]"
      ]
     },
     "execution_count": 5,
     "metadata": {},
     "output_type": "execute_result"
    }
   ],
   "source": [
    "team_for_pd = []\n",
    "for team in teams:\n",
    "    fixtures = call_api(team['_links']['fixtures']['href'], 'fixtures')\n",
    "    if team['games']:\n",
    "        team_for_pd.append({'name': team['name'], 'games': len(fixtures), 'goals': team['goals']})\n",
    "team_for_pd"
   ]
  },
  {
   "cell_type": "code",
   "execution_count": 7,
   "metadata": {},
   "outputs": [
    {
     "data": {
      "text/html": [
       "<div>\n",
       "<style>\n",
       "    .dataframe thead tr:only-child th {\n",
       "        text-align: right;\n",
       "    }\n",
       "\n",
       "    .dataframe thead th {\n",
       "        text-align: left;\n",
       "    }\n",
       "\n",
       "    .dataframe tbody tr th {\n",
       "        vertical-align: top;\n",
       "    }\n",
       "</style>\n",
       "<table border=\"1\" class=\"dataframe\">\n",
       "  <thead>\n",
       "    <tr style=\"text-align: right;\">\n",
       "      <th></th>\n",
       "      <th>games</th>\n",
       "      <th>goals</th>\n",
       "    </tr>\n",
       "  </thead>\n",
       "  <tbody>\n",
       "    <tr>\n",
       "      <th>0</th>\n",
       "      <td>34</td>\n",
       "      <td>9</td>\n",
       "    </tr>\n",
       "    <tr>\n",
       "      <th>1</th>\n",
       "      <td>40</td>\n",
       "      <td>23</td>\n",
       "    </tr>\n",
       "    <tr>\n",
       "      <th>2</th>\n",
       "      <td>34</td>\n",
       "      <td>6</td>\n",
       "    </tr>\n",
       "    <tr>\n",
       "      <th>3</th>\n",
       "      <td>34</td>\n",
       "      <td>9</td>\n",
       "    </tr>\n",
       "    <tr>\n",
       "      <th>4</th>\n",
       "      <td>40</td>\n",
       "      <td>19</td>\n",
       "    </tr>\n",
       "    <tr>\n",
       "      <th>5</th>\n",
       "      <td>34</td>\n",
       "      <td>9</td>\n",
       "    </tr>\n",
       "    <tr>\n",
       "      <th>6</th>\n",
       "      <td>34</td>\n",
       "      <td>10</td>\n",
       "    </tr>\n",
       "    <tr>\n",
       "      <th>7</th>\n",
       "      <td>40</td>\n",
       "      <td>17</td>\n",
       "    </tr>\n",
       "    <tr>\n",
       "      <th>8</th>\n",
       "      <td>34</td>\n",
       "      <td>7</td>\n",
       "    </tr>\n",
       "    <tr>\n",
       "      <th>9</th>\n",
       "      <td>34</td>\n",
       "      <td>7</td>\n",
       "    </tr>\n",
       "    <tr>\n",
       "      <th>10</th>\n",
       "      <td>34</td>\n",
       "      <td>10</td>\n",
       "    </tr>\n",
       "    <tr>\n",
       "      <th>11</th>\n",
       "      <td>34</td>\n",
       "      <td>7</td>\n",
       "    </tr>\n",
       "    <tr>\n",
       "      <th>12</th>\n",
       "      <td>34</td>\n",
       "      <td>15</td>\n",
       "    </tr>\n",
       "    <tr>\n",
       "      <th>13</th>\n",
       "      <td>34</td>\n",
       "      <td>8</td>\n",
       "    </tr>\n",
       "    <tr>\n",
       "      <th>14</th>\n",
       "      <td>34</td>\n",
       "      <td>9</td>\n",
       "    </tr>\n",
       "    <tr>\n",
       "      <th>15</th>\n",
       "      <td>34</td>\n",
       "      <td>9</td>\n",
       "    </tr>\n",
       "  </tbody>\n",
       "</table>\n",
       "</div>"
      ],
      "text/plain": [
       "    games  goals\n",
       "0      34      9\n",
       "1      40     23\n",
       "2      34      6\n",
       "3      34      9\n",
       "4      40     19\n",
       "5      34      9\n",
       "6      34     10\n",
       "7      40     17\n",
       "8      34      7\n",
       "9      34      7\n",
       "10     34     10\n",
       "11     34      7\n",
       "12     34     15\n",
       "13     34      8\n",
       "14     34      9\n",
       "15     34      9"
      ]
     },
     "execution_count": 7,
     "metadata": {},
     "output_type": "execute_result"
    }
   ],
   "source": [
    "teams_pd = pd.DataFrame(team_for_pd)\n",
    "del teams_pd['name']\n",
    "teams_pd"
   ]
  },
  {
   "cell_type": "code",
   "execution_count": 9,
   "metadata": {},
   "outputs": [
    {
     "data": {
      "text/plain": [
       "<matplotlib.axes._subplots.AxesSubplot at 0x1d3af4842e8>"
      ]
     },
     "execution_count": 9,
     "metadata": {},
     "output_type": "execute_result"
    },
    {
     "data": {
      "image/png": "[encoded data removed]",
      "text/plain": [
       "<matplotlib.figure.Figure at 0x1d3af69f630>"
      ]
     },
     "metadata": {},
     "output_type": "display_data"
    }
   ],
   "source": [
    "whitened = whiten(teams_pd.as_matrix())\n",
    "centroids, cluster_map = kmeans2(whitened, 3)\n",
    "colors_map = {0: 'r', 1: 'g', 2: 'b', 3: 'y', 4: 'm'}\n",
    "colors = [colors_map[c] for c in cluster_map]\n",
    "teams_pd.plot.scatter(x='games', y='goals', c=colors, s=100)"
   ]
  },
  {
   "cell_type": "code",
   "execution_count": 12,
   "metadata": {},
   "outputs": [
    {
     "name": "stderr",
     "output_type": "stream",
     "text": [
      "C:\\Users\\Maxim\\Anaconda3\\lib\\site-packages\\scipy\\cluster\\vq.py:660: UserWarning: One of the clusters is empty. Re-run kmean with a different initialization.\n",
      "  warnings.warn(\"One of the clusters is empty. \"\n"
     ]
    },
    {
     "data": {
      "text/plain": [
       "<matplotlib.axes._subplots.AxesSubplot at 0x1d3afc57080>"
      ]
     },
     "execution_count": 12,
     "metadata": {},
     "output_type": "execute_result"
    },
    {
     "data": {
      "image/png": "[encoded data removed]",
      "text/plain": [
       "<matplotlib.figure.Figure at 0x1d3afc6cd68>"
      ]
     },
     "metadata": {},
     "output_type": "display_data"
    }
   ],
   "source": [
    "centroids, cluster_map = kmeans2(whitened, 3)\n",
    "colors_map = {0: 'r', 1: 'g', 2: 'b', 3: 'y', 4: 'm'}\n",
    "colors = [colors_map[c] for c in cluster_map]\n",
    "teams_pd.plot.scatter(x='games', y='goals', c=colors, s=100)"
   ]
  }
 ],
 "metadata": {
  "kernelspec": {
   "display_name": "Python 3",
   "language": "python",
   "name": "python3"
  },
  "language_info": {
   "codemirror_mode": {
    "name": "ipython",
    "version": 3
   },
   "file_extension": ".py",
   "mimetype": "text/x-python",
   "name": "python",
   "nbconvert_exporter": "python",
   "pygments_lexer": "ipython3",
   "version": "3.6.1"
  }
 },
 "nbformat": 4,
 "nbformat_minor": 2
}
